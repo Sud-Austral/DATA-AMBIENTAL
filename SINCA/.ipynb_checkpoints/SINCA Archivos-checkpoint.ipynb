{
 "cells": [
  {
   "cell_type": "code",
   "execution_count": 13,
   "metadata": {},
   "outputs": [],
   "source": [
    "import os\n",
    "import pandas as pd\n",
    "import pathlib\n",
    "from os import listdir\n",
    "from os.path import isfile, join"
   ]
  },
  {
   "cell_type": "code",
   "execution_count": 4,
   "metadata": {},
   "outputs": [
    {
     "data": {
      "text/plain": [
       "['.ipynb_checkpoints',\n",
       " 'COMUNAS CL.xlsx',\n",
       " 'diccionario_estaciones.csv',\n",
       " 'III_Atacama',\n",
       " 'II_Antofagasta',\n",
       " 'IV_Coquimbo',\n",
       " 'I_Tarapacá',\n",
       " 'M_Metropolitana',\n",
       " 'Untitled.ipynb',\n",
       " \"VI_Libertador General Bernardo O'Higgins\",\n",
       " 'V_Valparaíso',\n",
       " 'XV_Arica y Parinacota']"
      ]
     },
     "execution_count": 4,
     "metadata": {},
     "output_type": "execute_result"
    }
   ],
   "source": [
    "contenido = os.listdir(\"C:/Users/Ian/Documents/GitHub/DATA-AMBIENTAL/SINCA\")\n",
    "contenido"
   ]
  },
  {
   "cell_type": "code",
   "execution_count": 6,
   "metadata": {},
   "outputs": [
    {
     "name": "stdout",
     "output_type": "stream",
     "text": [
      "['diccionario_estaciones.csv']\n"
     ]
    }
   ],
   "source": [
    "ejemplo_dir = 'C:/Users/Ian/Documents/GitHub/DATA-AMBIENTAL/SINCA'\n",
    "contenido = os.listdir(ejemplo_dir)\n",
    "registros = []\n",
    "for fichero in contenido:\n",
    "    if os.path.isfile(os.path.join(ejemplo_dir, fichero)) and fichero.endswith('.csv'):\n",
    "        registros.append(fichero)\n",
    "print(registros)"
   ]
  },
  {
   "cell_type": "code",
   "execution_count": 9,
   "metadata": {},
   "outputs": [
    {
     "data": {
      "text/plain": [
       "['COMUNAS CL.xlsx', 'diccionario_estaciones.csv', 'Untitled.ipynb']"
      ]
     },
     "execution_count": 9,
     "metadata": {},
     "output_type": "execute_result"
    }
   ],
   "source": [
    "ejemplo_dir = 'C:/Users/Ian/Documents/GitHub/DATA-AMBIENTAL/SINCA'\n",
    "directorio = pathlib.Path(ejemplo_dir)\n",
    "ficheros = [fichero.name for fichero in directorio.iterdir() if fichero.is_file()]\n",
    "ficheros"
   ]
  },
  {
   "cell_type": "code",
   "execution_count": 12,
   "metadata": {},
   "outputs": [
    {
     "data": {
      "text/plain": [
       "['COMUNAS CL.xlsx', 'diccionario_estaciones.csv', 'SINCA Archivos.ipynb']"
      ]
     },
     "execution_count": 12,
     "metadata": {},
     "output_type": "execute_result"
    }
   ],
   "source": [
    "\n",
    "onlyfiles = [f for f in listdir(mypath) if isfile(join(mypath, f))]"
   ]
  },
  {
   "cell_type": "code",
   "execution_count": null,
   "metadata": {},
   "outputs": [],
   "source": []
  },
  {
   "cell_type": "code",
   "execution_count": null,
   "metadata": {},
   "outputs": [],
   "source": []
  }
 ],
 "metadata": {
  "kernelspec": {
   "display_name": "Python 3",
   "language": "python",
   "name": "python3"
  },
  "language_info": {
   "codemirror_mode": {
    "name": "ipython",
    "version": 3
   },
   "file_extension": ".py",
   "mimetype": "text/x-python",
   "name": "python",
   "nbconvert_exporter": "python",
   "pygments_lexer": "ipython3",
   "version": "3.8.5"
  }
 },
 "nbformat": 4,
 "nbformat_minor": 4
}
