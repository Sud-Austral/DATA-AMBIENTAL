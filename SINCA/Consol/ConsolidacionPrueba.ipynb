{
 "cells": [
  {
   "cell_type": "code",
   "execution_count": 1,
   "metadata": {},
   "outputs": [],
   "source": [
    "import numpy as np\n",
    "import pandas as pd\n",
    "import os\n",
    "import pathlib\n",
    "from os import listdir\n",
    "from os.path import isfile, join"
   ]
  },
  {
   "cell_type": "code",
   "execution_count": 7,
   "metadata": {},
   "outputs": [
    {
     "name": "stdout",
     "output_type": "stream",
     "text": [
      "['II_estacion_antofagasta_mp10.txt', 'II_estacion_antofagasta_mp2.5.txt', 'I_estacion_alto_hospicio_mp2.5.txt']\n"
     ]
    }
   ],
   "source": [
    "directorio = 'C:/Users/Ian/Documents/GitHub/DATA-AMBIENTAL/SINCA/Consol/'\n",
    "contenido = os.listdir(directorio)\n",
    "registros = []\n",
    "for fichero in contenido:\n",
    "    if os.path.isfile(os.path.join(directorio, fichero)) and fichero.endswith('.txt'):\n",
    "        registros.append(fichero)\n",
    "print(registros)"
   ]
  },
  {
   "cell_type": "code",
   "execution_count": 14,
   "metadata": {},
   "outputs": [],
   "source": [
    "for i in registros:\n",
    "    df = pd.read_csv(i, sep=\" \")\n",
    "    df.to_csv(i+\".csv\",index=False)\n",
    "    "
   ]
  },
  {
   "cell_type": "code",
   "execution_count": 20,
   "metadata": {},
   "outputs": [
    {
     "name": "stdout",
     "output_type": "stream",
     "text": [
      "I_estacion_alto_hospicio_mp2.5.txt\n"
     ]
    }
   ],
   "source": [
    "filename = i\n",
    "name = filename.rstrip(filename[-0])\n",
    "print(name)"
   ]
  },
  {
   "cell_type": "code",
   "execution_count": null,
   "metadata": {},
   "outputs": [],
   "source": []
  }
 ],
 "metadata": {
  "kernelspec": {
   "display_name": "Python 3",
   "language": "python",
   "name": "python3"
  },
  "language_info": {
   "codemirror_mode": {
    "name": "ipython",
    "version": 3
   },
   "file_extension": ".py",
   "mimetype": "text/x-python",
   "name": "python",
   "nbconvert_exporter": "python",
   "pygments_lexer": "ipython3",
   "version": "3.8.5"
  }
 },
 "nbformat": 4,
 "nbformat_minor": 4
}
