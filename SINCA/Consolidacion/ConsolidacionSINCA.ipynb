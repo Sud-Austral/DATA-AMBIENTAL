{
 "cells": [
  {
   "cell_type": "code",
   "execution_count": 3,
   "metadata": {},
   "outputs": [],
   "source": [
    "import numpy as np\n",
    "import pandas as pd\n",
    "import os\n",
    "import pathlib\n",
    "from os import listdir\n",
    "from os.path import isfile, join"
   ]
  },
  {
   "cell_type": "code",
   "execution_count": 9,
   "metadata": {},
   "outputs": [
    {
     "name": "stdout",
     "output_type": "stream",
     "text": [
      "['III_estacion_21_de_mayo_mp10.txt', 'III_estacion_21_de_mayo_mp2.5.txt', 'III_estacion_cap_mp10_mensual.txt', 'III_estacion_cap_so2.txt', 'III_estacion_copiapo_mp10_mensual.txt', 'III_estacion_copiapo_sivica_mp10.txt', 'III_estacion_copiapo_sivica_mp2.5.txt', 'III_estacion_copiapo_so2.txt', 'III_estacion_dona_ines_mp10_mensual.txt', 'III_estacion_dona_ines_so2_diario.txt', 'III_estacion_EME_F_co.txt', 'III_estacion_EME_F_mp10_mensual.txt', 'III_estacion_EME_F_mp2.5.txt', 'III_estacion_EME_F_no.txt', 'III_estacion_EME_F_no2.txt', 'III_estacion_EME_F_o3.txt', 'III_estacion_EME_F_so2.txt', 'III_estacion_EME_ME_so2.txt', 'III_estacion_EME_M_mp10_trimestral.txt', 'III_estacion_EME_M_mp2.5.txt', 'III_estacion_EME_M_no.txt', 'III_estacion_EME_M_no2.txt', 'III_estacion_EME_M_so2.txt', 'III_estacion_huasco_II_no.txt', 'III_estacion_huasco_II_no2.txt', 'III_estacion_huasco_II_o3.txt', 'III_estacion_huasco_II_so2.txt', 'III_estacion_huasco_sivica_mp2.5.txt', 'III_estacion_los_volcanes_mp10.txt', 'III_estacion_los_volcanes_so2.txt', 'III_estacion_pabellon_so2.txt', 'III_estacion_paipote_mp10_mensual.txt', 'III_estacion_paipote_so2.txt', 'III_estacion_san_fernando_mp10_mensual.txt', 'III_estacion_san_fernando_so2.txt', 'III_estacion_SM1_so2.txt', 'III_estacion_SM2_so2.txt', 'III_estacion_SM3_so2.txt', 'III_estacion_SM4_so2.txt', 'III_estacion_SM5_so2.txt', 'III_estacion_sm6_so2.txt', 'III_estacion_sm7_so2.txt', 'III_estacion_sm8_so2.txt', 'III_estacion_tierra_amarilla_mp10_mensual.txt', 'III_estacion_tierra_amarilla_so2.txt', 'II_estacion_antofagasta_mp10.txt', 'II_estacion_antofagasta_mp2.5.txt', 'II_estacion_antofagasta_so2.txt', 'II_estacion_aukahuasi_as_mensual.txt', 'II_estacion_aukahuasi_mp10_mensual.txt', 'II_estacion_aukahuasi_so2.txt', 'II_estacion_bomberos_mp2.5.txt', 'II_estacion_centro_co.txt', 'II_estacion_centro_mp10.txt', 'II_estacion_centro_mp2.5.txt', 'II_estacion_centro_no.txt', 'II_estacion_centro_no2.txt', 'II_estacion_centro_nox.txt', 'II_estacion_centro_o3.txt', 'II_estacion_centro_so2.txt', 'II_estacion_centro_tocopilla_so2.txt', 'II_estacion_chiu_chiu_as_mensual.txt', 'II_estacion_chiu_chiu_mp10_mensual.txt', 'II_estacion_chiu_chiu_so2.txt', 'II_estacion_club_deportivo_23_marzo_mp10.txt', 'II_estacion_club_deportivo_23_marzo_mp2.5.txt', 'II_estacion_club_deportivo_23_marzo_so2.txt', 'II_estacion_colegio_pedro_vergara_keller_mp10.txt', 'II_estacion_colegio_pedro_vergara_keller_mp2.5.txt', 'II_estacion_compania_de_bomberos_co.txt', 'II_estacion_compania_de_bomberos_mp10_mensual.txt', 'II_estacion_compania_de_bomberos_no.txt', 'II_estacion_compania_de_bomberos_no2.txt', 'II_estacion_compania_de_bomberos_nox.txt', 'II_estacion_compania_de_bomberos_o3.txt', 'II_estacion_escuela_e10_co.txt', 'II_estacion_escuela_e10_mp10.txt', 'II_estacion_escuela_e10_mp2.5.txt', 'II_estacion_escuela_e10_no.txt', 'II_estacion_escuela_e10_no2.txt', 'II_estacion_escuela_e10_nox.txt', 'II_estacion_escuela_e10_o3.txt', 'II_estacion_escuela_e10_so2.txt', 'II_estacion_escuela_e12_mp10_mensual.txt', 'II_estacion_escuela_e12_so2_diario.txt', 'II_estacion_escuela_gabriela_mistral_so2_diario.txt', 'II_estacion_ferrocarriles_mp10_mensual.txt', 'II_estacion_ferrocarriles_no2.txt', 'II_estacion_ferrocarriles_o3.txt', 'II_estacion_ferrocarriles_so2.txt', 'II_estacion_gobernacion_mp10.txt', 'II_estacion_gobernacion_so2.txt', 'II_estacion_hospital_el_cobre_as.txt', 'II_estacion_hospital_el_cobre_mp10.txt', 'II_estacion_hospital_el_cobre_mp2.5.txt', 'II_estacion_hospital_el_cobre_so2.txt', 'II_estacion_hospital_mp10_mensual.txt', 'II_estacion_iglesia_mp10_mensual.txt', 'II_estacion_jardin_infantil_integra_mp10_mensual.txt', 'II_estacion_jardin_infantil_integra_no.txt', 'II_estacion_jardin_infantil_integra_no2.txt', 'II_estacion_jardin_infantil_integra_nox.txt', 'II_estacion_juan_jose_latorre_no.txt', 'II_estacion_juan_jose_latorre_no2.txt', 'II_estacion_juan_jose_latorre_nox.txt', 'II_estacion_nueva_chiu_chiu_mp10.txt', 'II_estacion_nueva_chiu_chiu_so2.txt', 'II_estacion_oasis_so2.txt', 'II_estacion_paposo_co.txt', 'II_estacion_paposo_mp10_mensual.txt', 'II_estacion_paposo_no.txt', 'II_estacion_paposo_no2.txt', 'II_estacion_paposo_nox.txt', 'II_estacion_paposo_o3.txt', 'II_estacion_paposo_so2.txt', 'II_estacion_playa_blanca_mp10_mensual.txt', 'II_estacion_punto_de_maximo_impacto_co.txt', 'II_estacion_punto_de_maximo_impacto_mp10_diario.txt', 'II_estacion_punto_de_maximo_impacto_no.txt', 'II_estacion_punto_de_maximo_impacto_no2.txt', 'II_estacion_punto_de_maximo_impacto_nox.txt', 'II_estacion_punto_de_maximo_impacto_o3.txt', 'II_estacion_punto_de_maximo_impacto_so2.txt', 'II_estacion_rendic_as_mensual.txt', 'II_estacion_rendic_cu_mensual.txt', 'II_estacion_rendic_mp10_mensual.txt', 'II_estacion_rendic_pb_mensual.txt', 'II_estacion_san_jose_co_mensual.txt', 'II_estacion_san_jose_mp10_mensual.txt', 'II_estacion_san_jose_so2.txt', 'II_estacion_servicio_medico_legal_as_mensual.txt', 'II_estacion_servicio_medico_legal_mp10_mensual.txt', 'II_estacion_servicio_medico_legal_so2.txt', 'II_estacion_sierra_gorda_mp10.txt', 'II_estacion_sierra_gorda_mp2.5.txt', 'II_estacion_super_site_mp10.txt', 'II_estacion_super_site_mp2.5.txt', 'II_estacion_super_site_no.txt', 'II_estacion_super_site_no2.txt', 'II_estacion_super_site_nox.txt', 'II_estacion_super_site_o3.txt', 'II_estacion_super_site_so2.txt', 'II_estacion_sur_as_mensual.txt', 'II_estacion_sur_mp10_mensual.txt', 'II_estacion_sur_so2.txt', 'II_estacion_sur_tocopilla_mp10_mensual.txt', 'II_estacion_sur_tocopilla_so2_diario.txt', 'II_estacion_tres_marias_mp10.txt', 'II_estacion_tres_marias_mp2.5.txt', 'II_estacion_villa_caspana_mp10_mensual.txt', 'II_estacion_villa_caspana_so2_.txt', 'IV_estacion_andacollo_mp10.txt', 'IV_estacion_caimanes_mp10_mensual.txt', 'IV_estacion_camisas_mp10_mensual.txt', 'IV_estacion_chacay_mp10_mensual.txt', 'IV_estacion_chepiquilla_mp10.txt', 'IV_estacion_coiron_mp10_mensual.txt', 'IV_estacion_coquimbo_mp2.5.txt', 'IV_estacion_cuncumen_mp10.txt', 'IV_estacion_cuncumen_mp2.5.txt', 'IV_estacion_el_mauro_mp10_mensual.txt', 'IV_estacion_el_sauce_mp10.txt', 'IV_estacion_hospital_mp10.txt', 'IV_estacion_hotel_mina_mp10_mensual.txt', 'IV_estacion_la_serena_mp2.5.txt', 'IV_estacion_punta_chungo_mp10_mensual.txt', 'IV_estacion_quelen_alto_mp10_mensual.txt', 'IV_estacion_umeneta_plaza_centenario_mp10.txt', 'I_estacion_alto_hospicio_mp2.5.txt', 'M_estacion_cerrillos_I_ch4.txt', 'M_estacion_cerrillos_I_co.txt', 'M_estacion_cerrillos_I_hcnm.txt', 'M_estacion_cerrillos_I_mp10.txt', 'M_estacion_cerrillos_I_mp2.5.txt', 'M_estacion_cerrillos_I_no.txt', 'M_estacion_cerrillos_I_no2.txt', 'M_estacion_cerrillos_I_nox.txt', 'M_estacion_cerrillos_I_o3.txt', 'M_estacion_cerrillos_I_so2.txt', 'M_estacion_cerrillos_mp10.txt', 'M_estacion_cerrillos_mp2.5.txt', 'M_estacion_cerro_navia_ch4.txt', 'M_estacion_cerro_navia_co.txt', 'M_estacion_cerro_navia_hcnm.txt', 'M_estacion_cerro_navia_mp10.txt', 'M_estacion_cerro_navia_mp2.5.txt', 'M_estacion_cerro_navia_no.txt', 'M_estacion_cerro_navia_no2.txt', 'M_estacion_cerro_navia_nox.txt', 'M_estacion_cerro_navia_o3.txt', 'M_estacion_cerro_navia_so2.txt', 'M_estacion_el_bosque_ch4.txt', 'M_estacion_el_bosque_co.txt', 'M_estacion_el_bosque_hcnm.txt', 'M_estacion_el_bosque_mp10.txt', 'M_estacion_el_bosque_mp2.5.txt', 'M_estacion_el_bosque_no.txt', 'M_estacion_el_bosque_no2.txt', 'M_estacion_el_bosque_nox.txt', 'M_estacion_el_bosque_o3.txt', 'M_estacion_el_bosque_so2.txt', 'M_estacion_independencia_co.txt', 'M_estacion_independencia_hcnm.txt', 'M_estacion_independencia_mp10.txt', 'M_estacion_independencia_mp2.5.txt', 'M_estacion_independencia_no.txt', 'M_estacion_independencia_no2.txt', 'M_estacion_independencia_nox.txt', 'M_estacion_independencia_o3.txt', 'M_estacion_independencia_so2.txt', 'M_estacion_las_condes_ch4.txt', 'M_estacion_las_condes_co.txt', 'M_estacion_las_condes_hcnm.txt', 'M_estacion_las_condes_mp10.txt', 'M_estacion_las_condes_mp2.5.txt', 'M_estacion_las_condes_no.txt', 'M_estacion_las_condes_no2.txt', 'M_estacion_las_condes_nox.txt', 'M_estacion_las_condes_o3.txt', 'M_estacion_las_condes_so2.txt', 'M_estacion_la_florida_co.txt', 'M_estacion_la_florida_mp10.txt', 'M_estacion_la_florida_mp2.5.txt', 'M_estacion_la_florida_no.txt', 'M_estacion_la_florida_no2.txt', 'M_estacion_la_florida_nox.txt', 'M_estacion_la_florida_o3.txt', 'M_estacion_la_florida_so2.txt', \"M_estacion_parque_o'higgins_ch4.txt\", \"M_estacion_parque_o'higgins_co.txt\", \"M_estacion_parque_o'higgins_hcnm.txt\", \"M_estacion_parque_o'higgins_mp10.txt\", \"M_estacion_parque_o'higgins_mp2.5.txt\", \"M_estacion_parque_o'higgins_no.txt\", \"M_estacion_parque_o'higgins_no2.txt\", \"M_estacion_parque_o'higgins_nox.txt\", \"M_estacion_parque_o'higgins_o3.txt\", \"M_estacion_parque_o'higgins_so2.txt\", 'M_estacion_pudahuel_ch4.txt', 'M_estacion_pudahuel_co.txt', 'M_estacion_pudahuel_hcnm.txt', 'M_estacion_pudahuel_mp10.txt', 'M_estacion_pudahuel_mp2.5.txt', 'M_estacion_pudahuel_no.txt', 'M_estacion_pudahuel_no2.txt', 'M_estacion_pudahuel_nox.txt', 'M_estacion_pudahuel_o3.txt', 'M_estacion_pudahuel_so2.txt', 'M_estacion_puente_alto_ch4.txt', 'M_estacion_puente_alto_co.txt', 'M_estacion_puente_alto_hcnm.txt', 'M_estacion_puente_alto_mp10.txt', 'M_estacion_puente_alto_mp2.5.txt', 'M_estacion_puente_alto_no.txt', 'M_estacion_puente_alto_no2.txt', 'M_estacion_puente_alto_nox.txt', 'M_estacion_puente_alto_o3.txt', 'M_estacion_puente_alto_so2.txt', 'M_estacion_quilicura_I_ch4.txt', 'M_estacion_quilicura_I_co.txt', 'M_estacion_quilicura_I_hcnm.txt', 'M_estacion_quilicura_I_mp10.txt', 'M_estacion_quilicura_I_mp2.5.txt', 'M_estacion_quilicura_I_no.txt', 'M_estacion_quilicura_I_no2.txt', 'M_estacion_quilicura_I_nox.txt', 'M_estacion_quilicura_I_o3.txt', 'M_estacion_quilicura_I_so2.txt', 'M_estacion_quilicura_mp10.txt', 'M_estacion_quilicura_mp2.5.txt', 'M_estacion_talagante_ch4.txt', 'M_estacion_talagante_co.txt', 'M_estacion_talagante_hcnm.txt', 'M_estacion_talagante_mp2.5.txt', 'M_estacion_talagante_no.txt', 'M_estacion_talagante_no2.txt', 'M_estacion_talagante_nox.txt', 'M_estacion_talagante_o3.txt', 'M_estacion_talagante_so2.txt', 'VI_estacion_casas_de_peuco_ch4.txt', 'VI_estacion_casas_de_peuco_co.txt', 'VI_estacion_casas_de_peuco_hcnm.txt', 'VI_estacion_casas_de_peuco_hct.txt', 'VI_estacion_casas_de_peuco_mp10.txt', 'VI_estacion_casas_de_peuco_no.txt', 'VI_estacion_casas_de_peuco_no2.txt', 'VI_estacion_casas_de_peuco_nox.txt', 'VI_estacion_casas_de_peuco_o3.txt', 'VI_estacion_casas_de_peuco_so2.txt', 'VI_estacion_cauquenes_so2.txt', 'VI_estacion_cipreses_so2.txt', 'VI_estacion_codegua_ch4.txt', 'VI_estacion_codegua_co.txt', 'VI_estacion_codegua_hcnm.txt', 'VI_estacion_codegua_hct.txt', 'VI_estacion_codegua_mp10.txt', 'VI_estacion_codegua_no.txt', 'VI_estacion_codegua_no2.txt', 'VI_estacion_codegua_nox.txt', 'VI_estacion_codegua_o3.txt', 'VI_estacion_codegua_so2.txt', 'VI_estacion_coya_poblacion_mp10_mensual.txt', 'VI_estacion_coya_poblacion_so2.txt', 'VI_estacion_mvc_co.txt', 'VI_estacion_mvc_mp10.txt', 'VI_estacion_mvc_no.txt', 'VI_estacion_mvc_no2.txt', 'VI_estacion_mvc_nox.txt', 'VI_estacion_mvc_o3.txt', 'VI_estacion_mvc_so2.txt', 'VI_estacion_rancagua_II_mp10.txt', 'VI_estacion_rancagua_II_mp2.5.txt', 'VI_estacion_rancagua_I_co.txt', 'VI_estacion_rancagua_I_mp10.txt', 'VI_estacion_rancagua_I_mp2.5.txt', 'VI_estacion_rancagua_I_no.txt', 'VI_estacion_rancagua_I_no2.txt', 'VI_estacion_rancagua_I_nox.txt', 'VI_estacion_rancagua_I_o3.txt', 'VI_estacion_rancagua_I_so2.txt', 'VI_estacion_rengo_mp10.txt', 'VI_estacion_rengo_mp2.5.txt', 'VI_estacion_rengo_o3.txt', 'VI_estacion_san_fernando_mp10.txt', 'VI_estacion_san_fernando_mp2.5.txt', 'VI_estacion_san_fernando_o3.txt', 'VI_estacion_san_francisco_de_mostazal_ch4.txt', 'VI_estacion_san_francisco_de_mostazal_co.txt', 'VI_estacion_san_francisco_de_mostazal_hcnm.txt', 'VI_estacion_san_francisco_de_mostazal_hct.txt', 'VI_estacion_san_francisco_de_mostazal_mp10.txt', 'VI_estacion_san_francisco_de_mostazal_no.txt', 'VI_estacion_san_francisco_de_mostazal_no2.txt', 'VI_estacion_san_francisco_de_mostazal_nox.txt', 'VI_estacion_san_francisco_de_mostazal_o3.txt', 'VI_estacion_san_francisco_de_mostazal_so2.txt', 'VI_estacion_sewell_mp10_mensual.txt', 'VI_estacion_sewell_so2.txt', 'VI_estacion_totihue_co.txt', 'VI_estacion_totihue_mp10.txt', 'VI_estacion_totihue_no2.txt', 'VI_estacion_totihue_o3.txt', 'VI_estacion_totihue_so2.txt', 'V_estacion_armat_mp10_mensual.txt', 'V_estacion_campiche_ch4.txt', 'V_estacion_campiche_hcnm.txt', 'V_estacion_campiche_hct.txt', 'V_estacion_campiche_mp10_mensual.txt', 'V_estacion_campiche_no.txt', 'V_estacion_campiche_no2.txt', 'V_estacion_campiche_nox.txt', 'V_estacion_campiche_o3.txt', 'V_estacion_campiche_so2.txt', 'V_estacion_catemu_mp10_mensual.txt', 'V_estacion_catemu_so2.txt', 'V_estacion_centro_quintero_ch4.txt', 'V_estacion_centro_quintero_co.txt', 'V_estacion_centro_quintero_hcnm.txt', 'V_estacion_centro_quintero_hct.txt', 'V_estacion_centro_quintero_mp10.txt', 'V_estacion_centro_quintero_mp2.5.txt', 'V_estacion_centro_quintero_no.txt', 'V_estacion_centro_quintero_no2.txt', 'V_estacion_centro_quintero_nox.txt', 'V_estacion_centro_quintero_o3.txt', 'V_estacion_centro_quintero_so2.txt', 'V_estacion_colmo_ch4.txt', 'V_estacion_colmo_co.txt', 'V_estacion_colmo_hcnm.txt', 'V_estacion_colmo_hct.txt', 'V_estacion_colmo_mp10_mensual.txt', 'V_estacion_colmo_no.txt', 'V_estacion_colmo_no2.txt', 'V_estacion_colmo_nox.txt', 'V_estacion_colmo_o3.txt', 'V_estacion_colmo_so2.txt', 'V_estacion_concon_ch4.txt', 'V_estacion_concon_co.txt', 'V_estacion_concon_hcnm.txt', 'V_estacion_concon_hct.txt', 'V_estacion_concon_mma_mp2.5.txt', 'V_estacion_concon_mp10.txt', 'V_estacion_concon_mp2.5.txt', 'V_estacion_concon_no.txt', 'V_estacion_concon_no2.txt', 'V_estacion_concon_nox.txt', 'V_estacion_concon_o3.txt', 'V_estacion_concon_so2.txt', 'V_estacion_concon_sur_mp10_mensual.txt', 'V_estacion_concon_sur_so2.txt', 'V_estacion_cuerpo_de_bomberos_ch4.txt', 'V_estacion_cuerpo_de_bomberos_co.txt', 'V_estacion_cuerpo_de_bomberos_hcnm.txt', 'V_estacion_cuerpo_de_bomberos_hct.txt', 'V_estacion_cuerpo_de_bomberos_mp10.txt', 'V_estacion_cuerpo_de_bomberos_mp2.5.txt', 'V_estacion_cuerpo_de_bomberos_no.txt', 'V_estacion_cuerpo_de_bomberos_no2.txt', 'V_estacion_cuerpo_de_bomberos_nox.txt', 'V_estacion_cuerpo_de_bomberos_o3.txt', 'V_estacion_cuerpo_de_bomberos_so2.txt', 'V_estacion_junta_de_vecinos_ch4.txt', 'V_estacion_junta_de_vecinos_co.txt', 'V_estacion_junta_de_vecinos_hcnm.txt', 'V_estacion_junta_de_vecinos_hct.txt', 'V_estacion_junta_de_vecinos_mp10_mensual.txt', 'V_estacion_junta_de_vecinos_so2.txt', 'V_estacion_las_gaviotas_ch4.txt', 'V_estacion_las_gaviotas_co.txt', 'V_estacion_las_gaviotas_hcnm.txt', 'V_estacion_las_gaviotas_hct.txt', 'V_estacion_las_gaviotas_mp10_mensual.txt', 'V_estacion_las_gaviotas_so2.txt', 'V_estacion_la_calera_mp10_mensual.txt', 'V_estacion_la_calera_no.txt', 'V_estacion_la_calera_no2.txt', 'V_estacion_la_calera_o3.txt', 'V_estacion_la_calera_so2.txt', 'V_estacion_la_cruz_colbun_ch4.txt', 'V_estacion_la_cruz_colbun_co.txt', 'V_estacion_la_cruz_colbun_hcnm.txt', 'V_estacion_la_cruz_colbun_hct.txt', 'V_estacion_la_cruz_colbun_mp10.txt', 'V_estacion_la_cruz_colbun_no.txt', 'V_estacion_la_cruz_colbun_no2.txt', 'V_estacion_la_cruz_colbun_nox.txt', 'V_estacion_la_cruz_colbun_o3.txt', 'V_estacion_la_cruz_colbun_so2.txt', 'V_estacion_la_cruz_melon_mp10_mensual.txt', 'V_estacion_la_cruz_melon_o3.txt', 'V_estacion_la_cruz_melon_so2.txt', 'V_estacion_la_greda_mp10.txt', 'V_estacion_la_greda_mp2.5.txt', 'V_estacion_la_greda_no.txt', 'V_estacion_la_greda_no2.txt', 'V_estacion_la_greda_nox.txt', 'V_estacion_la_greda_o3.txt', 'V_estacion_la_greda_so2.txt', 'V_estacion_la_palma_ch4.txt', 'V_estacion_la_palma_co.txt', 'V_estacion_la_palma_hcnm.txt', 'V_estacion_la_palma_hct.txt', 'V_estacion_la_palma_mp10.txt', 'V_estacion_la_palma_mp2.5.txt', 'V_estacion_la_palma_no.txt', 'V_estacion_la_palma_no2.txt', 'V_estacion_la_palma_nox.txt', 'V_estacion_la_palma_o3.txt', 'V_estacion_la_palma_so2.txt', 'V_estacion_loncura_ch4.txt', 'V_estacion_loncura_co.txt', 'V_estacion_loncura_hcnm.txt', 'V_estacion_loncura_hct.txt', 'V_estacion_loncura_mp10.txt', 'V_estacion_loncura_mp2.5.txt', 'V_estacion_loncura_no.txt', 'V_estacion_loncura_no2.txt', 'V_estacion_loncura_nox.txt', 'V_estacion_loncura_o3.txt', 'V_estacion_loncura_so2.txt', 'V_estacion_los_andes_mp10.txt', 'V_estacion_los_andes_mp2.5.txt', 'V_estacion_los_andes_no.txt', 'V_estacion_los_andes_no2.txt', 'V_estacion_los_andes_nox.txt', 'V_estacion_los_andes_o3.txt', 'V_estacion_los_maitenes_ch4.txt', 'V_estacion_los_maitenes_co.txt', 'V_estacion_los_maitenes_hcnm.txt', 'V_estacion_los_maitenes_mp10.txt', 'V_estacion_los_maitenes_mp2.5.txt', 'V_estacion_los_maitenes_no.txt', 'V_estacion_los_maitenes_no2.txt', 'V_estacion_los_maitenes_nox.txt', 'V_estacion_los_maitenes_o3.txt', 'V_estacion_los_maitenes_so2.txt', 'V_estacion_lo_campo_mp10_mensual.txt', 'V_estacion_lo_campo_so2.txt', 'V_estacion_manzanar_ch4.txt', 'V_estacion_manzanar_co.txt', 'V_estacion_manzanar_hcnm.txt', 'V_estacion_manzanar_hct.txt', 'V_estacion_manzanar_mp10.txt', 'V_estacion_manzanar_no.txt', 'V_estacion_manzanar_no2.txt', 'V_estacion_manzanar_nox.txt', 'V_estacion_manzanar_o3.txt', 'V_estacion_manzanar_so2.txt', 'V_estacion_puchuncavi_mp10.txt', 'V_estacion_puchuncavi_mp2.5.txt', 'V_estacion_puchuncavi_no.txt', 'V_estacion_puchuncavi_no2.txt', 'V_estacion_puchuncavi_nox.txt', 'V_estacion_puchuncavi_o3.txt', 'V_estacion_puchuncavi_so2.txt', 'V_estacion_quilpe_mp10.txt', 'V_estacion_quilpe_mp2.5.txt', 'V_estacion_quintero_co.txt', 'V_estacion_quintero_mp10.txt', 'V_estacion_quintero_mp2.5.txt', 'V_estacion_quintero_no.txt', 'V_estacion_quintero_no2.txt', 'V_estacion_quintero_nox.txt', 'V_estacion_quintero_o3.txt', 'V_estacion_quintero_so2.txt', 'V_estacion_romeral_so2.txt', 'V_estacion_rural_1_ch4.txt', 'V_estacion_rural_1_mp10_mensual.txt', 'V_estacion_rural_1_no.txt', 'V_estacion_rural_1_no2.txt', 'V_estacion_rural_1_o3.txt', 'V_estacion_rural_1_so2.txt', 'V_estacion_santa_margarita_so2.txt', 'V_estacion_san_pedro_ch4.txt', 'V_estacion_san_pedro_co.txt', 'V_estacion_san_pedro_hcnm.txt', 'V_estacion_san_pedro_hct.txt', 'V_estacion_san_pedro_mp10.txt', 'V_estacion_san_pedro_mp2.5.txt', 'V_estacion_san_pedro_no.txt', 'V_estacion_san_pedro_no2.txt', 'V_estacion_san_pedro_nox.txt', 'V_estacion_san_pedro_o3.txt', 'V_estacion_san_pedro_so2.txt', 'V_estacion_sur_ch4.txt', 'V_estacion_sur_co.txt', 'V_estacion_sur_hcnm.txt', 'V_estacion_sur_hct.txt', 'V_estacion_sur_mp10.txt', 'V_estacion_sur_no.txt', 'V_estacion_sur_no2.txt', 'V_estacion_sur_nox.txt', 'V_estacion_sur_o3.txt', 'V_estacion_sur_so2.txt', 'V_estacion_terminal_concentrados_mp10_mensual.txt', 'V_estacion_valle_alegre_mp10.txt', 'V_estacion_valle_alegre_no.txt', 'V_estacion_valle_alegre_no2.txt', 'V_estacion_valle_alegre_nox.txt', 'V_estacion_valle_alegre_o3.txt', 'V_estacion_valle_alegre_so2.txt', 'V_estacion_valparaiso_mp2.5.txt', 'V_estacion_ventanas_ch4.txt', 'V_estacion_ventanas_hcnm.txt', 'V_estacion_ventanas_hct.txt', 'V_estacion_ventanas_mp10.txt', 'V_estacion_ventanas_mp2.5.txt', 'V_estacion_ventanas_no.txt', 'V_estacion_ventanas_no2.txt', 'V_estacion_ventanas_nox.txt', 'V_estacion_ventanas_o3.txt', 'V_estacion_ventanas_so2.txt', 'V_estacion_vina_del_mar_co.txt', 'V_estacion_vina_del_mar_mp10.txt', 'V_estacion_vina_del_mar_mp2.5.txt', 'V_estacion_vina_del_mar_no.txt', 'V_estacion_vina_del_mar_no2.txt', 'V_estacion_vina_del_mar_nox.txt', 'V_estacion_vina_del_mar_o3.txt', 'V_estacion_vina_del_mar_so2.txt', 'XV_estacion_arica_mp2.5.txt']\n"
     ]
    },
    {
     "ename": "AttributeError",
     "evalue": "'str' object has no attribute 'txt'",
     "output_type": "error",
     "traceback": [
      "\u001b[1;31m---------------------------------------------------------------------------\u001b[0m",
      "\u001b[1;31mAttributeError\u001b[0m                            Traceback (most recent call last)",
      "\u001b[1;32m<ipython-input-9-0161bb480481>\u001b[0m in \u001b[0;36m<module>\u001b[1;34m\u001b[0m\n\u001b[0;32m      7\u001b[0m \u001b[0mprint\u001b[0m\u001b[1;33m(\u001b[0m\u001b[0mregistros\u001b[0m\u001b[1;33m)\u001b[0m\u001b[1;33m\u001b[0m\u001b[1;33m\u001b[0m\u001b[0m\n\u001b[0;32m      8\u001b[0m \u001b[1;32mfor\u001b[0m \u001b[0mi\u001b[0m \u001b[1;32min\u001b[0m \u001b[0mregistros\u001b[0m\u001b[1;33m:\u001b[0m\u001b[1;33m\u001b[0m\u001b[1;33m\u001b[0m\u001b[0m\n\u001b[1;32m----> 9\u001b[1;33m     \u001b[0mprint\u001b[0m\u001b[1;33m(\u001b[0m\u001b[0mi\u001b[0m\u001b[1;33m.\u001b[0m\u001b[0mtxt\u001b[0m\u001b[1;33m)\u001b[0m\u001b[1;33m\u001b[0m\u001b[1;33m\u001b[0m\u001b[0m\n\u001b[0m",
      "\u001b[1;31mAttributeError\u001b[0m: 'str' object has no attribute 'txt'"
     ]
    }
   ],
   "source": [
    "directorio = 'C:/Users/Ian/Documents/GitHub/DATA-AMBIENTAL/SINCA/Consolidacion'\n",
    "contenido = os.listdir(directorio)\n",
    "registros = []\n",
    "for fichero in contenido:\n",
    "    if os.path.isfile(os.path.join(directorio, fichero)) and fichero.endswith('.txt'):\n",
    "        registros.append(fichero)\n",
    "print(registros)"
   ]
  },
  {
   "cell_type": "code",
   "execution_count": 16,
   "metadata": {},
   "outputs": [
    {
     "name": "stdout",
     "output_type": "stream",
     "text": [
      "       FECHA..YYMMDD.  HORA..HHMM.  Registros.validados  \\\n",
      "1              180827          100                  NaN   \n",
      "2              180827          200                  NaN   \n",
      "3              180827          300                  NaN   \n",
      "4              180827          400                  NaN   \n",
      "5              180827          500                  NaN   \n",
      "...               ...          ...                  ...   \n",
      "23611          210506         1900                  NaN   \n",
      "23612          210506         2000                  NaN   \n",
      "23613          210506         2100                  NaN   \n",
      "23614          210506         2200                  NaN   \n",
      "23615          210506         2300                  NaN   \n",
      "\n",
      "       Registros.preliminares  Registros.no.validados   X identificador1  \\\n",
      "1                         NaN                     9.0 NaN     21_de_mayo   \n",
      "2                         NaN                    10.0 NaN     21_de_mayo   \n",
      "3                         NaN                    10.0 NaN     21_de_mayo   \n",
      "4                         NaN                    11.0 NaN     21_de_mayo   \n",
      "5                         NaN                    10.0 NaN     21_de_mayo   \n",
      "...                       ...                     ...  ..            ...   \n",
      "23611                     NaN                     6.0 NaN     21_de_mayo   \n",
      "23612                     NaN                     8.0 NaN     21_de_mayo   \n",
      "23613                     NaN                     8.0 NaN     21_de_mayo   \n",
      "23614                     NaN                     7.0 NaN     21_de_mayo   \n",
      "23615                     NaN                     6.0 NaN     21_de_mayo   \n",
      "\n",
      "      identificador2  \n",
      "1              mp2.5  \n",
      "2              mp2.5  \n",
      "3              mp2.5  \n",
      "4              mp2.5  \n",
      "5              mp2.5  \n",
      "...              ...  \n",
      "23611          mp2.5  \n",
      "23612          mp2.5  \n",
      "23613          mp2.5  \n",
      "23614          mp2.5  \n",
      "23615          mp2.5  \n",
      "\n",
      "[23615 rows x 8 columns]\n"
     ]
    }
   ],
   "source": [
    "for i in registros:\n",
    "    df[i] = pd.read_csv(registros[i], sep=\" \")\n",
    "    df.to_csv(registros[i],index=False)"
   ]
  },
  {
   "cell_type": "code",
   "execution_count": null,
   "metadata": {},
   "outputs": [],
   "source": [
    "data_txt = np.loadtxt('')\n",
    "data_txtDF = pd.DataFrame(data_txt)\n",
    "data_txtDF.to_csv('',index=False)"
   ]
  }
 ],
 "metadata": {
  "kernelspec": {
   "display_name": "Python 3",
   "language": "python",
   "name": "python3"
  },
  "language_info": {
   "codemirror_mode": {
    "name": "ipython",
    "version": 3
   },
   "file_extension": ".py",
   "mimetype": "text/x-python",
   "name": "python",
   "nbconvert_exporter": "python",
   "pygments_lexer": "ipython3",
   "version": "3.8.5"
  }
 },
 "nbformat": 4,
 "nbformat_minor": 4
}
